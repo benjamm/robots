{
 "cells": [
  {
   "cell_type": "code",
   "execution_count": 13,
   "metadata": {
    "collapsed": false
   },
   "outputs": [],
   "source": [
    "#Importation des librairies nécessaires \n",
    "from selenium import webdriver\n",
    "from selenium.webdriver.common.keys import Keys\n",
    "from selenium.webdriver.support import expected_conditions as EC\n",
    "from selenium.webdriver.common.by import By\n",
    "from selenium.webdriver.support.ui import WebDriverWait\n",
    "from pyvirtualdisplay import Display\n",
    "import time\n",
    "import datetime\n",
    "import re \n",
    "\n",
    "from selenium.webdriver.common.desired_capabilities import DesiredCapabilities\n",
    "\n",
    "user_agent = (\n",
    "    \"Mozilla/5.0 (Macintosh; Intel Mac OS X 10_8_4) \" +\n",
    "    \"AppleWebKit/537.36 (KHTML, like Gecko) Chrome/29.0.1547.57 Safari/537.36\"\n",
    ")\n",
    "\n",
    "dcap = dict(webdriver.DesiredCapabilities.PHANTOMJS)\n",
    "dcap[\"phantomjs.page.settings.userAgent\"] = user_agent\n",
    "#dcap[\"phantomjs.page.settings.userAgent\"] = (\"Mozilla/5.0 (Windows NT 6.2) AppleWebKit/537.36 (KHTML, like Gecko) Chrome/31.0.1650.63 Safari/537.36\")\n",
    "service_args = ['--load-images=false', '--proxy-type=None', '--ignore-ssl-errors=true','--web-security=no']\n",
    "\n",
    "YDbrowser = webdriver.PhantomJS(desired_capabilities=dcap,service_args=service_args )\n",
    "JQbrowser = webdriver.PhantomJS(desired_capabilities=dcap,service_args=service_args )\n",
    "JQbrowser.get(\"http://code.jquery.com/jquery-latest.min.js\")\n",
    "jquery = JQbrowser.find_elements_by_xpath(\"//body\")[0].text\n",
    "#read the jquery from a file\n",
    "YDbrowser.execute_script(jquery) #active the jquery lib\n",
    "\n",
    "\n"
   ]
  },
  {
   "cell_type": "code",
   "execution_count": 14,
   "metadata": {
    "collapsed": true
   },
   "outputs": [],
   "source": [
    "# Caractéristiques de l'assuré\n",
    "\n",
    "c_date_naissance = datetime.date(1988, 11, 24) #Date de naissance\n",
    "c_situation_maritale = \"Marié(e)\"\n",
    "c_profession = {1:\"Salarié\", 2:\"Fonctionnaire\"}[2]\n",
    "c_date_permis = datetime.date(2012, 6, 1) #Permis conduire \n",
    "c_conduite_accompagnee = False\n",
    "c_resiliation_par_assureur = \"Non\"\n",
    "c_permis_suspendu_annule_retite = \"Non, jamais\"\n",
    "c_assureur_prec = {1:\"AXA ASSURANCES\", 2:\"Fonctionnaire\"}[1]\n",
    "c_bonus_malus = 0.85\n",
    "\n",
    "\n",
    "c_conducteur_secondaire = \"Non\"\n",
    "\n",
    "c_vehicule_a_assurer = {1: \"Une voiture que vous possédez et assurez actuellement\",\n",
    "                        2: \"L'achat d'une voiture qui remplacera votre voiture actuelle\",\n",
    "                        3: \"L'achat d'une voiture supplémentaire au foyer\",\n",
    "                        4: \"L'achat d'une première voiture\"} [1]\n",
    "                         \n",
    "c_date_ach_veh = datetime.date(2012, 11, 1) #Date achat véhicule\n",
    "c_marque = \"CITROEN\"\n",
    "c_modele = \"C3\"\n",
    "c_alimentation = \"ESSENCE, Transmission Manuelle\"\n",
    "c_carrosserie = \"Berline\"\n",
    "c_puissance = \"4\"\n",
    "c_miseencircu_mois = 10 \n",
    "c_miseencircu_annee = 2012\n",
    "c_deplacements = \"Privé\"\n",
    "c_zip_nuit = 75001\n",
    "c_zip_travail = 75001\n",
    "c_parking_nuit = \"garage fermé\"\n",
    "c_annee_prec_vehicule = \"Pas de prec\"\n",
    "\n",
    "\n",
    "#assurance précédente\n",
    "c_histo_ass = \"Oui\"\n",
    "c_mois_ech = \"Janvier\"\n",
    "c_compagnie = \"AG2R\""
   ]
  },
  {
   "cell_type": "code",
   "execution_count": 16,
   "metadata": {
    "collapsed": false
   },
   "outputs": [
    {
     "data": {
      "text/plain": [
       "'https://www.youdrive.fr/votre-projet/?page=1'"
      ]
     },
     "execution_count": 16,
     "metadata": {},
     "output_type": "execute_result"
    }
   ],
   "source": [
    "#ouverture du browser\n",
    "#display = Display(visible=0, size=(1024, 768))\n",
    "#display.start()\n",
    "\n",
    "#ouverture du browser\n",
    "\n",
    "\n",
    "#Ouvre la page youdrive.fr Clique sur j'obtiens un tarif\n",
    "YDbrowser.get(\"https://www.youdrive.fr/connexion-auto-devis?leadID=911512be-0ae9-e411-80bd-df74260d0e4f&ProfileID=2caf5cd4-a5ba-e511-80c1-c9fb2669c249\")\n",
    "YDbrowser.get('https://www.youdrive.fr/votre-projet/')\n",
    "YDbrowser.current_url\n",
    "#print (YDbrowser.page_source)\n"
   ]
  },
  {
   "cell_type": "code",
   "execution_count": 17,
   "metadata": {
    "collapsed": false
   },
   "outputs": [],
   "source": [
    "\n",
    "\n",
    "#Défini les fonctions les plus utilisées \n",
    "wait = WebDriverWait(YDbrowser, 30)\n",
    "def wait_and_click(a,b): \n",
    "    elem = wait.until(EC.element_to_be_clickable((a,b)));\n",
    "    elem.click();\n",
    "\n",
    "\n",
    "#YDbrowser.find_element_by_class_name(\"tarif\").click()\n",
    "\n",
    "#Rempli les conditions d'élégibilité \n",
    "#YDbrowser.find_element_by_class_name(\"gchoice_4_0\").click()\n",
    "#YDbrowser.find_elements_by_xpath(\"//*[contains(text(), 'Essence')]\")[0].click()\n",
    "#wait_and_click(By.XPATH, \"//*[contains(text(), 'A partir de')]\")\n",
    "\n",
    "#YDbrowser.find_element_by_id(\"gform_submit_button_17\").click()"
   ]
  },
  {
   "cell_type": "code",
   "execution_count": 18,
   "metadata": {
    "collapsed": false
   },
   "outputs": [
    {
     "data": {
      "text/plain": [
       "'https://www.youdrive.fr/votre-projet/?page=1'"
      ]
     },
     "execution_count": 18,
     "metadata": {},
     "output_type": "execute_result"
    }
   ],
   "source": [
    "#print (YDbrowser.page_source)\n",
    "#YDbrowser.close()\n",
    "#display.stop()\n",
    "#YDbrowser.get(\"https://www.youdrive.fr/votre-projet/1/?page=1\")\n",
    "YDbrowser.current_url"
   ]
  },
  {
   "cell_type": "code",
   "execution_count": 19,
   "metadata": {
    "collapsed": false
   },
   "outputs": [],
   "source": [
    "#a = YDbrowser.find_element_by_id(\"gform_submit_button_17\").submit()"
   ]
  },
  {
   "cell_type": "code",
   "execution_count": 20,
   "metadata": {
    "collapsed": false
   },
   "outputs": [],
   "source": [
    "#page 1 du questionnaire \n",
    "# Date de naissance \n",
    "YDbrowser.find_elements_by_xpath(\"//select[@id='input_1_13_3']/option[@value=\" + str(c_date_naissance.strftime(\"%d\")) + \"]\")[0].click()\n",
    "YDbrowser.find_elements_by_xpath(\"//select[@id='input_1_13_2']/option[@value=\" + str(c_date_naissance.strftime(\"%m\")) + \"]\")[0].click()\n",
    "YDbrowser.find_elements_by_xpath(\"//select[@id='input_1_13_1']/option[@value=\" + str(c_date_naissance.strftime(\"%Y\")) + \"]\")[0].click()\n",
    "\n",
    "#Situation maritale\n",
    "YDbrowser.find_element_by_id(\"input_1_15\").find_elements_by_xpath(\"//*[contains(text(), '\" + c_situation_maritale + \"')]\")[0].click()\n",
    "\n",
    "#Date obtention permis conduire\n",
    "YDbrowser.find_elements_by_xpath(\"//select[@id='input_1_17_2']/option[@value=\" + str(c_date_permis.strftime(\"%m\")) + \"]\")[0].click()\n",
    "YDbrowser.find_elements_by_xpath(\"//select[@id='input_1_17_1']/option[@value=\" + str(c_date_permis.strftime(\"%Y\")) + \"]\")[0].click()\n",
    "\n",
    "#L'avez-vous eu dans le cadre de la conduite accompagnée ?\n",
    "if c_conduite_accompagnee:\n",
    "    YDbrowser.find_element_by_id(\"label_18_0\").click()\n",
    "else :\n",
    "    YDbrowser.find_element_by_id(\"label_18_1\").click()\n",
    "\n",
    "#Profession\n",
    "YDbrowser.find_elements_by_xpath(\"//select[@id='input_1_16']/option[contains(text(), '\" +c_profession + \"')]\")[0].click()\n",
    "\n",
    "#Voulez-vous déclarer un conducteur secondaire ?\n",
    "YDbrowser.find_elements_by_xpath(\"//select[@id='input_1_9']/option[contains(text(), '\" +c_conducteur_secondaire + \"')]\")[0].click()\n",
    "\n"
   ]
  },
  {
   "cell_type": "code",
   "execution_count": 21,
   "metadata": {
    "collapsed": false
   },
   "outputs": [
    {
     "data": {
      "text/plain": [
       "'https://www.youdrive.fr/votre-projet/?page=2'"
      ]
     },
     "execution_count": 21,
     "metadata": {},
     "output_type": "execute_result"
    }
   ],
   "source": [
    "#Next page\n",
    "YDbrowser.find_element_by_id(\"gform_next_button_1_1\").click()\n",
    "YDbrowser.current_url"
   ]
  },
  {
   "cell_type": "code",
   "execution_count": 22,
   "metadata": {
    "collapsed": false
   },
   "outputs": [],
   "source": [
    "#page 2 du questionnaire\n",
    "\n",
    "#véhicule @ assurer \n",
    "\n",
    "#Date d'achat du véhicule  \n",
    "wait_and_click(By.XPATH, \"//select[@id='input_1_29_2']/option[@value=\" + str(c_date_ach_veh.strftime(\"%m\")) + \"]\")\n",
    "YDbrowser.find_elements_by_xpath(\"//select[@id='input_1_29_1']/option[@value=\" +  str(c_date_ach_veh.strftime(\"%Y\")) + \"]\")[0].click()\n",
    "\n",
    "#Véhicule \n",
    "#marque \n",
    "wait_and_click(By.XPATH, \"//select[@id='input_1_41']/option[contains(text(), '\" +c_marque + \"')]\")\n",
    "\n",
    "#modele\n",
    "wait_and_click(By.XPATH, \"//select[@id='input_1_42']/option[contains(text(), '\" +c_modele + \"')]\")\n",
    "\n",
    "#alim\n",
    "wait_and_click(By.XPATH, \"//select[@id='input_1_43']/option[contains(text(), '\" +c_alimentation + \"')]\")\n",
    "\n",
    "#Carrosserie\n",
    "wait_and_click(By.XPATH, \"//select[@id='input_1_44']/option[contains(text(), '\" +c_carrosserie + \"')]\")\n",
    "\n",
    "#Puissance\n",
    "wait_and_click(By.XPATH, \"//select[@id='input_1_45']/option[contains(text(), '\" +c_puissance + \"')]\")\n",
    "\n",
    "\n",
    "#Date de première mise en circulation\n",
    "element = WebDriverWait(YDbrowser, 10).until(EC.element_to_be_clickable((By.XPATH, \"//select[@id='input_1_33_2']/option[@value=\" + str(c_miseencircu_mois) + \"]\")))\n",
    "element.click()\n",
    "\n",
    "element = WebDriverWait(YDbrowser, 10).until(EC.element_to_be_clickable((By.XPATH, \"//select[@id='input_1_33_1']/option[@value=\" + str(c_miseencircu_annee) + \"]\")))\n",
    "element.click()\n",
    "\n",
    "#Type véhicule\n",
    "element = WebDriverWait(YDbrowser, 10).until(EC.element_to_be_clickable((By.NAME, \"vehicleType\")))\n",
    "element.click()\n",
    "\n",
    "#déplacements \n",
    "YDbrowser.find_elements_by_xpath(\"//select[@id='input_1_35']/option[contains(text(), '\" +c_deplacements + \"')]\")[0].click()\n",
    "\n",
    "#Code postal du lieu de stationnement la nuit \n",
    "YDbrowser.find_elements_by_xpath(\"//input[@id='input_1_36']\")[0].click()\n",
    "YDbrowser.find_elements_by_xpath(\"//input[@id='input_1_36']\")[0].send_keys('75001')\n",
    "\n",
    "#code postal du lieu de travail\n",
    "\n",
    "#commune du lieu de travail\n",
    "\n",
    "#mode de parking la nuit\n",
    "\n",
    "#Années avec l'ancien véhicule \n",
    "\n"
   ]
  },
  {
   "cell_type": "code",
   "execution_count": 23,
   "metadata": {
    "collapsed": false
   },
   "outputs": [
    {
     "data": {
      "text/plain": [
       "'https://www.youdrive.fr/votre-projet/?page=3'"
      ]
     },
     "execution_count": 23,
     "metadata": {},
     "output_type": "execute_result"
    }
   ],
   "source": [
    "#Next page\n",
    "YDbrowser.find_element_by_id(\"gform_next_button_1_2\").click()\n",
    "YDbrowser.current_url"
   ]
  },
  {
   "cell_type": "code",
   "execution_count": 24,
   "metadata": {
    "collapsed": true
   },
   "outputs": [],
   "source": [
    "#page 3 du questionnaire\n",
    "wait_and_click(By.XPATH, \"//select[@id='input_1_19']/option[contains(text(), '\" +c_permis_suspendu_annule_retite + \"')]\")\n",
    "wait_and_click(By.XPATH, \"//select[@id='input_1_31']/option[contains(text(), '\" +c_histo_ass + \"')]\")\n",
    "wait_and_click(By.XPATH, \"//select[@id='input_1_106']/option[contains(text(), '\" +c_mois_ech + \"')]\")\n",
    "wait_and_click(By.XPATH, \"//select[@id='input_1_64']/option[contains(text(), '\" +c_compagnie + \"')]\")\n"
   ]
  },
  {
   "cell_type": "code",
   "execution_count": 25,
   "metadata": {
    "collapsed": false
   },
   "outputs": [
    {
     "data": {
      "text/plain": [
       "'https://www.youdrive.fr/votre-projet/?page=4'"
      ]
     },
     "execution_count": 25,
     "metadata": {},
     "output_type": "execute_result"
    }
   ],
   "source": [
    "#Next page\n",
    "YDbrowser.find_element_by_id(\"gform_next_button_1_3\").click()\n",
    "YDbrowser.current_url"
   ]
  },
  {
   "cell_type": "code",
   "execution_count": 26,
   "metadata": {
    "collapsed": true
   },
   "outputs": [],
   "source": [
    "YDbrowser.find_element_by_id(\"txtEmail\").send_keys('benjamin.mahe@axa-direct.com')\n",
    "YDbrowser.find_element_by_class_name(\"next-btn\").click()"
   ]
  },
  {
   "cell_type": "code",
   "execution_count": 27,
   "metadata": {
    "collapsed": true
   },
   "outputs": [],
   "source": [
    "# tarifs \n",
    "tarifs ={'Tiers Mini': 'NA','Tiers Maxi': 'NA', 'Tout Risques': 'NA', 'Pack': 'NA'}\n",
    "YDtarifs = YDbrowser.find_elements_by_xpath(\"//*[@class='amount-1']\")\n",
    "res = YDtarifs[0].text\n",
    "tarifs['Tiers Mini'] = float(re.search(\"..\", res).group(0)) + float(re.search(\"(?<= . ){2}.*(?= / mois)\", res).group(0))/10\n",
    "res = YDtarifs[1].text\n",
    "tarifs['Tiers Maxi'] = float(re.search(\"..\", res).group(0)) + float(re.search(\"(?<= . ){2}.*(?= / mois)\", res).group(0))/10\n",
    "res = YDtarifs[2].text\n",
    "tarifs['Tout Risques'] = float(re.search(\"..\", res).group(0)) + float(re.search(\"(?<= . ){2}.*(?= / mois)\", res).group(0))/10\n",
    "\n",
    "res = YDbrowser.find_elements_by_xpath(\"//*[@class='bottom-col2 product-option' ]\")[0].text\n",
    "tarifs['Pack']  = float(re.sub(\",\",\".\",re.search(\"(?<= )....\", res).group(0)))\n"
   ]
  },
  {
   "cell_type": "code",
   "execution_count": 28,
   "metadata": {
    "collapsed": false
   },
   "outputs": [
    {
     "data": {
      "text/plain": [
       "{'Pack': 4.83, 'Tiers Maxi': 36.0, 'Tiers Mini': 31.8, 'Tout Risques': 46.6}"
      ]
     },
     "execution_count": 28,
     "metadata": {},
     "output_type": "execute_result"
    }
   ],
   "source": [
    "tarifs"
   ]
  },
  {
   "cell_type": "code",
   "execution_count": null,
   "metadata": {
    "collapsed": true
   },
   "outputs": [],
   "source": []
  }
 ],
 "metadata": {
  "kernelspec": {
   "display_name": "Python 3",
   "language": "python",
   "name": "python3"
  },
  "language_info": {
   "codemirror_mode": {
    "name": "ipython",
    "version": 3
   },
   "file_extension": ".py",
   "mimetype": "text/x-python",
   "name": "python",
   "nbconvert_exporter": "python",
   "pygments_lexer": "ipython3",
   "version": "3.4.3"
  }
 },
 "nbformat": 4,
 "nbformat_minor": 0
}
